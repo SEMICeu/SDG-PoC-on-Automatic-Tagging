{
 "cells": [
  {
   "cell_type": "markdown",
   "id": "28f9f909",
   "metadata": {},
   "source": [
    "# Web page & policy tagging"
   ]
  },
  {
   "cell_type": "markdown",
   "id": "3d3e00d5",
   "metadata": {},
   "source": [
    "## Table Of Content:\n",
    "* [Install packages](#first-bullet)\n",
    "* [Read in data](#second-bullet)\n",
    "* [Preprocessing](#third-bullet)\n",
    "* [Installing word to vec model](#fourth-bullet)\n",
    "* [Tagging webpages to policies](#fifth-bullet)\n",
    "* [Analysing results](#sixth-bullet)\n",
    "\n"
   ]
  },
  {
   "cell_type": "markdown",
   "id": "678468f8",
   "metadata": {},
   "source": [
    "## 1) Install packages <a class=\"anchor\" id=\"first-bullet\"></a>"
   ]
  },
  {
   "cell_type": "code",
   "execution_count": 1,
   "id": "41b88efa",
   "metadata": {},
   "outputs": [
    {
     "name": "stderr",
     "output_type": "stream",
     "text": [
      "[nltk_data] Downloading package stopwords to\n",
      "[nltk_data]     C:\\Users\\jvanhaeren001\\AppData\\Roaming\\nltk_data...\n",
      "[nltk_data]   Package stopwords is already up-to-date!\n"
     ]
    }
   ],
   "source": [
    "import pandas as pd\n",
    "import numpy as np\n",
    "\n",
    "#read in data\n",
    "import os\n",
    "import json\n",
    "\n",
    "#preprocessing\n",
    "import re, string\n",
    "\n",
    "#tagging webpages to words\n",
    "import nltk\n",
    "nltk.download(\"stopwords\")\n",
    "from nltk.corpus import stopwords\n",
    "import gensim\n",
    "from gensim.models.keyedvectors import KeyedVectors\n",
    "import copy\n",
    "\n"
   ]
  },
  {
   "cell_type": "markdown",
   "id": "a09f5e9f",
   "metadata": {},
   "source": [
    "## 2) Read in data <a class=\"anchor\" id=\"second-bullet\"></a>"
   ]
  },
  {
   "cell_type": "markdown",
   "id": "37aa4561",
   "metadata": {},
   "source": [
    "Read in web pages as json file, read in policy codes in csv format."
   ]
  },
  {
   "cell_type": "markdown",
   "id": "dbf16f2b",
   "metadata": {},
   "source": [
    "### Read in web pages"
   ]
  },
  {
   "cell_type": "code",
   "execution_count": 2,
   "id": "880f0f38",
   "metadata": {},
   "outputs": [],
   "source": [
    "with open(file=\"html_data_2.json\", encoding=\"utf-8\") as jsonFile:\n",
    "    jsonObject = json.load(jsonFile)\n",
    "    jsonFile.close()"
   ]
  },
  {
   "cell_type": "code",
   "execution_count": 3,
   "id": "aa4aff65",
   "metadata": {},
   "outputs": [],
   "source": [
    "data = jsonObject['html_list']\n",
    "\n",
    "df_webpages = pd.DataFrame(data)"
   ]
  },
  {
   "cell_type": "code",
   "execution_count": 4,
   "id": "a7af00e0",
   "metadata": {},
   "outputs": [
    {
     "data": {
      "text/plain": [
       "(1837, 13)"
      ]
     },
     "execution_count": 4,
     "metadata": {},
     "output_type": "execute_result"
    }
   ],
   "source": [
    "df_webpages.shape"
   ]
  },
  {
   "cell_type": "code",
   "execution_count": 5,
   "id": "7a85ee85",
   "metadata": {},
   "outputs": [
    {
     "data": {
      "text/plain": [
       "Index(['title', 'url', 'language', 'classification_information',\n",
       "       'metadata_type_string', 'country', 'html', 'sdg_tag', 'ISO3166',\n",
       "       'Location', 'Service', 'policy_code', 'Policy'],\n",
       "      dtype='object')"
      ]
     },
     "execution_count": 5,
     "metadata": {},
     "output_type": "execute_result"
    }
   ],
   "source": [
    "df_webpages.columns"
   ]
  },
  {
   "cell_type": "markdown",
   "id": "2286d16f",
   "metadata": {},
   "source": [
    "### Read in policy codes"
   ]
  },
  {
   "cell_type": "code",
   "execution_count": 6,
   "id": "7b42cfda",
   "metadata": {},
   "outputs": [],
   "source": [
    "df_policy_codes = pd.read_csv('policy_codes.csv', sep=\";\")"
   ]
  },
  {
   "cell_type": "code",
   "execution_count": 7,
   "id": "cbd2bb28",
   "metadata": {},
   "outputs": [
    {
     "data": {
      "text/plain": [
       "(133, 3)"
      ]
     },
     "execution_count": 7,
     "metadata": {},
     "output_type": "execute_result"
    }
   ],
   "source": [
    "df_policy_codes.shape"
   ]
  },
  {
   "cell_type": "code",
   "execution_count": 8,
   "id": "c93b7c28",
   "metadata": {},
   "outputs": [
    {
     "data": {
      "text/plain": [
       "Index(['Policy_code', 'information or procedure', 'relevant_tags'], dtype='object')"
      ]
     },
     "execution_count": 8,
     "metadata": {},
     "output_type": "execute_result"
    }
   ],
   "source": [
    "df_policy_codes.columns"
   ]
  },
  {
   "cell_type": "markdown",
   "id": "4ebf86f0",
   "metadata": {},
   "source": [
    "## 3) Preprocessing <a class=\"anchor\" id=\"third-bullet\"></a>"
   ]
  },
  {
   "cell_type": "markdown",
   "id": "93aebe03",
   "metadata": {},
   "source": [
    "Preprocessing of web pages and policy codes"
   ]
  },
  {
   "cell_type": "code",
   "execution_count": 9,
   "id": "91c2eaa6",
   "metadata": {},
   "outputs": [],
   "source": [
    "raw_data = df_webpages.loc[:,'html']"
   ]
  },
  {
   "cell_type": "code",
   "execution_count": 10,
   "id": "293eefa6",
   "metadata": {},
   "outputs": [
    {
     "data": {
      "text/plain": [
       "0       Your Guide to Greece - Gov.gr ΕL EN Created wi...\n",
       "1       Your Guide to Greece - Gov.gr Skip to main con...\n",
       "2       Your Guide to Greece - Gov.gr Skip to main con...\n",
       "3       Your Guide to Greece - Gov.gr Skip to main con...\n",
       "4       Your Guide to Greece - Gov.gr Skip to main con...\n",
       "                              ...                        \n",
       "1832    Import charges - Tullverket About the website ...\n",
       "1833    Recognition information for EU citizens - Swed...\n",
       "1834    Candidates standing for election - Valmyndighe...\n",
       "1835    The right to vote and voting cards - Valmyndig...\n",
       "1836    - Yrkeshögskolan Antingen stödjer din webbläsa...\n",
       "Name: html, Length: 1837, dtype: object"
      ]
     },
     "execution_count": 10,
     "metadata": {},
     "output_type": "execute_result"
    }
   ],
   "source": [
    "raw_data.reset_index(drop=True)"
   ]
  },
  {
   "cell_type": "markdown",
   "id": "5648e609",
   "metadata": {},
   "source": [
    "### Removing punctuations, numbers, to lower,..."
   ]
  },
  {
   "cell_type": "code",
   "execution_count": 11,
   "id": "26d7ff32",
   "metadata": {},
   "outputs": [],
   "source": [
    "def preprocess_text(text):\n",
    "    text = text.lower()\n",
    "    text = re.compile('<.*?>').sub('', text)\n",
    "    text = re.compile('[%s]' % re.escape(string.punctuation)).sub(' ', text)\n",
    "    text = re.sub('\\s+', ' ', text)\n",
    "    text = re.sub(r'\\[[0-9]*\\]', ' ', text)\n",
    "    text = re.sub(r'[^\\w\\s]', '', str(text).lower().strip())\n",
    "    text = re.sub(r'\\d', ' ', text)\n",
    "    text = re.sub(r'\\s+', ' ', text)\n",
    "    return text.strip()"
   ]
  },
  {
   "cell_type": "code",
   "execution_count": 12,
   "id": "83b74d0f",
   "metadata": {},
   "outputs": [],
   "source": [
    "data = [preprocess_text(t) for t in raw_data]"
   ]
  },
  {
   "cell_type": "code",
   "execution_count": 13,
   "id": "5ca28b05",
   "metadata": {},
   "outputs": [],
   "source": [
    "df_webpages['text_preprocessed']=data"
   ]
  },
  {
   "cell_type": "markdown",
   "id": "3a9e5809",
   "metadata": {},
   "source": [
    "## 4) Installing word to vec model <a class=\"anchor\" id=\"fourth-bullet\"></a>"
   ]
  },
  {
   "cell_type": "markdown",
   "id": "180b0617",
   "metadata": {},
   "source": [
    "Word to vec model from: http://vectors.nlpl.eu/repository/"
   ]
  },
  {
   "cell_type": "markdown",
   "id": "0647d97d",
   "metadata": {},
   "source": [
    "The model is not installed on the Github repo: so in case you would like to run this code. You will need to install the English word to vec (for example English CoNLL17 corpus vec size = 100, window = 10, which is used for this model)"
   ]
  },
  {
   "cell_type": "markdown",
   "id": "c3a84b16",
   "metadata": {},
   "source": [
    "### From CoNLL17 corpus to gensim word2vec (ONLY RUN 1 TIME)"
   ]
  },
  {
   "cell_type": "code",
   "execution_count": 14,
   "id": "2b79de65",
   "metadata": {},
   "outputs": [
    {
     "data": {
      "text/plain": [
       "'col_names = [\"word\"]\\nfor i in range(0,100):\\n    col_names.append(\"vec\" + str(i))'"
      ]
     },
     "execution_count": 14,
     "metadata": {},
     "output_type": "execute_result"
    }
   ],
   "source": [
    "'''col_names = [\"word\"]\n",
    "for i in range(0,100):\n",
    "    col_names.append(\"vec\" + str(i))'''"
   ]
  },
  {
   "cell_type": "code",
   "execution_count": 15,
   "id": "fb62d393",
   "metadata": {},
   "outputs": [],
   "source": [
    "#embedded_dic = pd.read_csv('model.txt', skiprows=1, sep=' ', encoding='latin-1', names = col_names, index_col=False)"
   ]
  },
  {
   "cell_type": "code",
   "execution_count": 16,
   "id": "e4c9e6ae",
   "metadata": {},
   "outputs": [],
   "source": [
    "#embedded_dic['word'] = embedded_dic['word'].str.encode('latin-1')"
   ]
  },
  {
   "cell_type": "code",
   "execution_count": 17,
   "id": "a0e53ea3",
   "metadata": {},
   "outputs": [],
   "source": [
    "#embedded_dic['word'] = embedded_dic['word'].str.decode('utf-8', errors='ignore') "
   ]
  },
  {
   "cell_type": "code",
   "execution_count": 18,
   "id": "ade16593",
   "metadata": {},
   "outputs": [],
   "source": [
    "#embedded_dic.index = embedded_dic['word']"
   ]
  },
  {
   "cell_type": "code",
   "execution_count": 19,
   "id": "7131a303",
   "metadata": {},
   "outputs": [],
   "source": [
    "#embedded_dic = embedded_dic.drop(columns = 'word')"
   ]
  },
  {
   "cell_type": "code",
   "execution_count": 20,
   "id": "df2426ec",
   "metadata": {},
   "outputs": [
    {
     "data": {
      "text/plain": [
       "'np.savetxt(\\'embedded_dic_english.txt\\', embedded_dic.reset_index().values, \\n           delimiter=\" \", \\n           header=\"{} {}\".format(len(embedded_dic), len(embedded_dic.columns)),\\n           comments=\"\",\\n           fmt=[\"%s\"] + [\"%.18e\"]*len(embedded_dic.columns), encoding = \\'utf-8\\')'"
      ]
     },
     "execution_count": 20,
     "metadata": {},
     "output_type": "execute_result"
    }
   ],
   "source": [
    "'''np.savetxt('embedded_dic_english.txt', embedded_dic.reset_index().values, \n",
    "           delimiter=\" \", \n",
    "           header=\"{} {}\".format(len(embedded_dic), len(embedded_dic.columns)),\n",
    "           comments=\"\",\n",
    "           fmt=[\"%s\"] + [\"%.18e\"]*len(embedded_dic.columns), encoding = 'utf-8')''' #save the model as a model you can use with gensim"
   ]
  },
  {
   "cell_type": "markdown",
   "id": "d6221e32",
   "metadata": {},
   "source": [
    "### Create similarity measure between documents"
   ]
  },
  {
   "cell_type": "code",
   "execution_count": 21,
   "id": "94780eef",
   "metadata": {},
   "outputs": [],
   "source": [
    "stopW = set(stopwords.words('english'))\n",
    "punctuation_map = dict((ord(char), None) for char in string.punctuation)\n",
    "\n",
    "class DocSimV1(object):\n",
    "    def __init__(self, w2v_model , stopwords=stopW , remove_punctuation_map=punctuation_map):\n",
    "        self.w2v_model = w2v_model\n",
    "        self.stopwords = stopwords\n",
    "        self.remove_punctuation_map = punctuation_map\n",
    "\n",
    "    def vectorize(self, doc):\n",
    "        \"\"\"Identify the vector values for each word in the given document\"\"\"\n",
    "        doc = doc.lower()\n",
    "        words = [w.translate(punctuation_map) for w in doc.split(\" \") if w not in self.stopwords]\n",
    "        word_vecs = []\n",
    "        for word in words:\n",
    "            try:\n",
    "                vec = self.w2v_model[word]\n",
    "                word_vecs.append(vec)\n",
    "            except KeyError:\n",
    "                # Ignore if the word doesn't exist in the vocabulary\n",
    "                pass\n",
    "\n",
    "        # Assuming that document vector is the mean of all the word vectors\n",
    "        vector = np.mean(word_vecs, axis=0)\n",
    "        return vector\n",
    "\n",
    "\n",
    "    def _cosine_sim(self, vecA, vecB):\n",
    "        \"\"\"Find the cosine similarity distance between two vectors.\"\"\"\n",
    "        csim = np.dot(vecA, vecB) / (np.linalg.norm(vecA) * np.linalg.norm(vecB))\n",
    "        if np.isnan(np.sum(csim)):\n",
    "            return 0\n",
    "        return csim\n",
    "\n",
    "    def calculate_similarity(self, source_doc, target_docs=[], threshold=0):\n",
    "        \"\"\"Calculates & returns similarity scores between given source document & all\n",
    "        the target documents.\"\"\"\n",
    "        if isinstance(target_docs, str):\n",
    "            target_docs = [target_docs]\n",
    "\n",
    "        source_vec = self.vectorize(source_doc)\n",
    "        results = []\n",
    "        for doc in target_docs:\n",
    "            target_vec = self.vectorize(doc)\n",
    "            sim_score = self._cosine_sim(source_vec, target_vec)\n",
    "            if sim_score > threshold:\n",
    "                results.append({\n",
    "                    'score' : sim_score,\n",
    "                    'doc' : doc\n",
    "                })\n",
    "            # Sort results by score in desc order\n",
    "            #results.sort(key=lambda k : k['score'] , reverse=True)\n",
    "\n",
    "        return results"
   ]
  },
  {
   "cell_type": "code",
   "execution_count": 22,
   "id": "0fb89ed1",
   "metadata": {},
   "outputs": [],
   "source": [
    "from gensim.models.keyedvectors import KeyedVectors\n",
    "word_vectors = KeyedVectors.load_word2vec_format('embedded_dic_english.txt', binary=False)"
   ]
  },
  {
   "cell_type": "markdown",
   "id": "076d942c",
   "metadata": {},
   "source": [
    "### Practise to see if model works"
   ]
  },
  {
   "cell_type": "code",
   "execution_count": 23,
   "id": "ec5a634f",
   "metadata": {},
   "outputs": [],
   "source": [
    "ds = DocSimV1(word_vectors)"
   ]
  },
  {
   "cell_type": "code",
   "execution_count": 126,
   "id": "f5bb46d7",
   "metadata": {},
   "outputs": [
    {
     "data": {
      "text/plain": [
       "[{'score': 0.14972492, 'doc': 'identification'},\n",
       " {'score': 0.40867487, 'doc': 'driving'},\n",
       " {'score': 0.30057374, 'doc': 'travel'},\n",
       " {'score': 0.12562916, 'doc': 'visum'},\n",
       " {'score': 0.7626458, 'doc': 'electricity'}]"
      ]
     },
     "execution_count": 126,
     "metadata": {},
     "output_type": "execute_result"
    }
   ],
   "source": [
    "ds.calculate_similarity(\"gas\", [\"identification\",\"driving\",\"travel\", \"visum\", \"electricity\"])"
   ]
  },
  {
   "cell_type": "markdown",
   "id": "480696c3",
   "metadata": {},
   "source": [
    "## 5) Tagging webpages to policies <a class=\"anchor\" id=\"fifth-bullet\"></a>"
   ]
  },
  {
   "cell_type": "code",
   "execution_count": 25,
   "id": "e0ebb4e8",
   "metadata": {},
   "outputs": [],
   "source": [
    "def create_tags(org_data, policy_codes,threshold):\n",
    "    \n",
    "    index_text = org_data.columns.get_loc(\"text_preprocessed\")\n",
    "    main_policy_codes=policy_codes[\"Policy_code\"][policy_codes[\"Policy_code\"].str.len() == 1]\n",
    "    \n",
    "    all_tags =[]\n",
    "    policy_codes_list = []\n",
    "\n",
    "    for main_code in main_policy_codes:\n",
    "        temp_one_policy = policy_codes[policy_codes.Policy_code.str.startswith(main_code)]\n",
    "        sub_policy_codes=temp_one_policy[\"Policy_code\"][temp_one_policy[\"Policy_code\"].str.len() ==2]\n",
    "        policy_codes_list.append(sub_policy_codes.values.tolist())       \n",
    "        \n",
    "        sub_policy_list = []\n",
    "\n",
    "        for sub_policy_code in sub_policy_codes:\n",
    "            sub_policy_tag = policy_codes[policy_codes[\"Policy_code\"]==sub_policy_code]\n",
    "                       \n",
    "            sub_policy_tag = sub_policy_tag[\"relevant_tags\"].str.split(',', expand=True)\n",
    "                        \n",
    "            sub_policy_list.append(sub_policy_tag.values.tolist()[0])\n",
    "            \n",
    "        all_tags.append(sub_policy_list)            \n",
    "               \n",
    "    #print(policy_codes_list)                \n",
    "    \n",
    "    temp = copy.deepcopy(org_data)\n",
    "    \n",
    "    ds = DocSimV1(word_vectors)\n",
    "    \n",
    "    for code in main_policy_codes:\n",
    "        temp[code]=0 \n",
    "           \n",
    "    temp['tags'] = \"\"\n",
    "    temp['subtags'] = \"\"\n",
    "    temp['tag_word'] =\"\"\n",
    "    \n",
    "    index_tags = temp.columns.get_loc(\"tags\")  \n",
    "    index_subtags = temp.columns.get_loc(\"subtags\")\n",
    "\n",
    "    index_tagwords = temp.columns.get_loc(\"tag_word\")\n",
    "\n",
    "    #dubbelcheck if the words in the brackets are the words we want to match with\n",
    "    \n",
    "    # combine the categories in a list\n",
    "      \n",
    "    tags_en = []\n",
    "    tags_en = all_tags\n",
    "    #print(tags_en)\n",
    "          \n",
    "    #define the names of the subcategories\n",
    "          \n",
    "    subtags_names = []\n",
    "    subtags_names = policy_codes_list\n",
    "    #print(subtags_names)\n",
    "    \n",
    "\n",
    "    #splitting into two word comparison\n",
    "    for i in range(0,len(temp)): # doc per doc\n",
    "        words = temp.iloc[i,index_text].split()\n",
    "        word_filters = [] #contains all three-words of a document \n",
    "        \n",
    "           \n",
    "        for w in range(0,len(words)-1):          \n",
    "            word_filters.append(words[w] + \" \" + words[w+1])\n",
    "        \n",
    "        for word_filter in word_filters:\n",
    "            \n",
    "            for t in range(0,len(tags_en)): # every main tag\n",
    "                for subt in range(0,len(tags_en[t])): # for every subtag\n",
    "                    sim_scores = ds.calculate_similarity(word_filter, tags_en[t][subt]) # compute similarity between preprocessed text and tag\n",
    "                    scores = [sim_scores[k].get('score') for k in range(0,len(sim_scores))]\n",
    "                    col_pos = index_text + 1 +t\n",
    "                    score_max = max(scores, default=0)\n",
    "                \n",
    "                    if score_max > temp.iloc[i,col_pos]:\n",
    "                        temp.iloc[i,col_pos] = float(score_max) # add max value of match under the tag variable\n",
    "\n",
    "                    if score_max >=threshold:\n",
    "                        index_max = np.argmax(scores)\n",
    "                                                                       \n",
    "                        if temp.columns[index_text + 1 + t] not in temp.iloc[i,index_tags]:\n",
    "                            temp.iloc[i,index_tags] = temp.iloc[i,index_tags] + temp.columns[index_text + 1 +t] + \", \" #add main tag\n",
    "                                         \n",
    "                        if subtags_names[t][subt] not in temp.iloc[i,index_subtags]:\n",
    "                            temp.iloc[i,index_subtags] = temp.iloc[i,index_subtags] + subtags_names[t][subt] + \", \" #add sub tag\n",
    "                        \n",
    "                        if tags_en[t][subt][index_max] not in temp.iloc[i,index_tagwords]:\n",
    "                            temp.iloc[i,index_tagwords] = temp.iloc[i,index_tagwords] + tags_en[t][subt][index_max] + \", \" #add tag word                           \n",
    "       \n",
    "    return temp"
   ]
  },
  {
   "cell_type": "code",
   "execution_count": 26,
   "id": "f89b7de1",
   "metadata": {},
   "outputs": [
    {
     "name": "stderr",
     "output_type": "stream",
     "text": [
      "C:\\Users\\jvanhaeren001\\Anaconda3\\lib\\site-packages\\numpy\\core\\fromnumeric.py:3419: RuntimeWarning: Mean of empty slice.\n",
      "  return _methods._mean(a, axis=axis, dtype=dtype,\n",
      "C:\\Users\\jvanhaeren001\\Anaconda3\\lib\\site-packages\\numpy\\core\\_methods.py:188: RuntimeWarning: invalid value encountered in double_scalars\n",
      "  ret = ret.dtype.type(ret / rcount)\n"
     ]
    }
   ],
   "source": [
    "output = create_tags(df_webpages, df_policy_codes, 0.95)"
   ]
  },
  {
   "cell_type": "code",
   "execution_count": null,
   "id": "e43931cf",
   "metadata": {},
   "outputs": [],
   "source": [
    "pd.set_option('display.max_columns', 41)"
   ]
  },
  {
   "cell_type": "code",
   "execution_count": 29,
   "id": "0414287e",
   "metadata": {},
   "outputs": [
    {
     "data": {
      "text/html": [
       "<div>\n",
       "<style scoped>\n",
       "    .dataframe tbody tr th:only-of-type {\n",
       "        vertical-align: middle;\n",
       "    }\n",
       "\n",
       "    .dataframe tbody tr th {\n",
       "        vertical-align: top;\n",
       "    }\n",
       "\n",
       "    .dataframe thead th {\n",
       "        text-align: right;\n",
       "    }\n",
       "</style>\n",
       "<table border=\"1\" class=\"dataframe\">\n",
       "  <thead>\n",
       "    <tr style=\"text-align: right;\">\n",
       "      <th></th>\n",
       "      <th>title</th>\n",
       "      <th>url</th>\n",
       "      <th>language</th>\n",
       "      <th>classification_information</th>\n",
       "      <th>metadata_type_string</th>\n",
       "      <th>country</th>\n",
       "      <th>html</th>\n",
       "      <th>sdg_tag</th>\n",
       "      <th>ISO3166</th>\n",
       "      <th>Location</th>\n",
       "      <th>...</th>\n",
       "      <th>R</th>\n",
       "      <th>S</th>\n",
       "      <th>T</th>\n",
       "      <th>U</th>\n",
       "      <th>V</th>\n",
       "      <th>W</th>\n",
       "      <th>X</th>\n",
       "      <th>tags</th>\n",
       "      <th>subtags</th>\n",
       "      <th>tag_word</th>\n",
       "    </tr>\n",
       "  </thead>\n",
       "  <tbody>\n",
       "    <tr>\n",
       "      <th>0</th>\n",
       "      <td>Your Guide to Greece - Gov.gr</td>\n",
       "      <td>https://www.gov.gr/en/sdg/citizens-and-family-...</td>\n",
       "      <td>en</td>\n",
       "      <td>G3</td>\n",
       "      <td>Information</td>\n",
       "      <td>Greece</td>\n",
       "      <td>Your Guide to Greece - Gov.gr ΕL EN Created wi...</td>\n",
       "      <td>sdg</td>\n",
       "      <td>en</td>\n",
       "      <td></td>\n",
       "      <td>...</td>\n",
       "      <td>1.000000</td>\n",
       "      <td>0.672528</td>\n",
       "      <td>0.800680</td>\n",
       "      <td>0.936135</td>\n",
       "      <td>0.813468</td>\n",
       "      <td>0.736008</td>\n",
       "      <td>0.930276</td>\n",
       "      <td>G, B, F, R, K,</td>\n",
       "      <td>G3, B8, F1, R1, B9, K2, G1,</td>\n",
       "      <td>gender recognition, health, medical treatment,...</td>\n",
       "    </tr>\n",
       "    <tr>\n",
       "      <th>1</th>\n",
       "      <td>Your Guide to Greece - Gov.gr</td>\n",
       "      <td>https://www.gov.gr/en/sdg/citizens-and-family-...</td>\n",
       "      <td>en</td>\n",
       "      <td>G4</td>\n",
       "      <td>Information</td>\n",
       "      <td>Greece</td>\n",
       "      <td>Your Guide to Greece - Gov.gr Skip to main con...</td>\n",
       "      <td>sdg</td>\n",
       "      <td>en</td>\n",
       "      <td></td>\n",
       "      <td>...</td>\n",
       "      <td>0.595408</td>\n",
       "      <td>0.637999</td>\n",
       "      <td>0.692486</td>\n",
       "      <td>0.825659</td>\n",
       "      <td>0.606110</td>\n",
       "      <td>0.780286</td>\n",
       "      <td>0.886670</td>\n",
       "      <td>B, G, D,</td>\n",
       "      <td>B4, G4, G3, D6,</td>\n",
       "      <td>taxation, Succession rights, gender recognitio...</td>\n",
       "    </tr>\n",
       "    <tr>\n",
       "      <th>2</th>\n",
       "      <td>Your Guide to Greece - Gov.gr</td>\n",
       "      <td>https://www.gov.gr/en/sdg/citizens-and-family-...</td>\n",
       "      <td>en</td>\n",
       "      <td>G4</td>\n",
       "      <td>Information</td>\n",
       "      <td>Greece</td>\n",
       "      <td>Your Guide to Greece - Gov.gr Skip to main con...</td>\n",
       "      <td>sdg</td>\n",
       "      <td>en</td>\n",
       "      <td></td>\n",
       "      <td>...</td>\n",
       "      <td>0.561580</td>\n",
       "      <td>0.629226</td>\n",
       "      <td>0.749408</td>\n",
       "      <td>0.809133</td>\n",
       "      <td>0.656334</td>\n",
       "      <td>0.779231</td>\n",
       "      <td>0.886670</td>\n",
       "      <td>B, G,</td>\n",
       "      <td>B4, G4, G3,</td>\n",
       "      <td>taxation, Succession rights, gender recognition,</td>\n",
       "    </tr>\n",
       "    <tr>\n",
       "      <th>3</th>\n",
       "      <td>Your Guide to Greece - Gov.gr</td>\n",
       "      <td>https://www.gov.gr/en/sdg/citizens-and-family-...</td>\n",
       "      <td>en</td>\n",
       "      <td>G4</td>\n",
       "      <td>Information</td>\n",
       "      <td>Greece</td>\n",
       "      <td>Your Guide to Greece - Gov.gr Skip to main con...</td>\n",
       "      <td>sdg</td>\n",
       "      <td>en</td>\n",
       "      <td></td>\n",
       "      <td>...</td>\n",
       "      <td>0.891274</td>\n",
       "      <td>0.814821</td>\n",
       "      <td>0.856768</td>\n",
       "      <td>0.818225</td>\n",
       "      <td>0.900747</td>\n",
       "      <td>0.780286</td>\n",
       "      <td>0.886670</td>\n",
       "      <td>G, D, L, B,</td>\n",
       "      <td>G4, G3, D6, L5, B4,</td>\n",
       "      <td>Succession rights, gender recognition, death, ...</td>\n",
       "    </tr>\n",
       "    <tr>\n",
       "      <th>4</th>\n",
       "      <td>Your Guide to Greece - Gov.gr</td>\n",
       "      <td>https://www.gov.gr/en/sdg/citizens-and-family-...</td>\n",
       "      <td>en</td>\n",
       "      <td>G4</td>\n",
       "      <td>Information</td>\n",
       "      <td>Greece</td>\n",
       "      <td>Your Guide to Greece - Gov.gr Skip to main con...</td>\n",
       "      <td>sdg</td>\n",
       "      <td>en</td>\n",
       "      <td></td>\n",
       "      <td>...</td>\n",
       "      <td>0.638353</td>\n",
       "      <td>0.624820</td>\n",
       "      <td>0.681847</td>\n",
       "      <td>0.812690</td>\n",
       "      <td>0.646286</td>\n",
       "      <td>0.779231</td>\n",
       "      <td>0.886670</td>\n",
       "      <td>G, B,</td>\n",
       "      <td>G4, G3, B4, G2,</td>\n",
       "      <td>Succession rights, gender recognition, taxatio...</td>\n",
       "    </tr>\n",
       "    <tr>\n",
       "      <th>...</th>\n",
       "      <td>...</td>\n",
       "      <td>...</td>\n",
       "      <td>...</td>\n",
       "      <td>...</td>\n",
       "      <td>...</td>\n",
       "      <td>...</td>\n",
       "      <td>...</td>\n",
       "      <td>...</td>\n",
       "      <td>...</td>\n",
       "      <td>...</td>\n",
       "      <td>...</td>\n",
       "      <td>...</td>\n",
       "      <td>...</td>\n",
       "      <td>...</td>\n",
       "      <td>...</td>\n",
       "      <td>...</td>\n",
       "      <td>...</td>\n",
       "      <td>...</td>\n",
       "      <td>...</td>\n",
       "      <td>...</td>\n",
       "      <td>...</td>\n",
       "    </tr>\n",
       "    <tr>\n",
       "      <th>1832</th>\n",
       "      <td>Import charges - Tullverket</td>\n",
       "      <td>https://www.tullverket.se/eng/business/importi...</td>\n",
       "      <td>en</td>\n",
       "      <td>L4</td>\n",
       "      <td>Information</td>\n",
       "      <td>Sweden</td>\n",
       "      <td>Import charges - Tullverket About the website ...</td>\n",
       "      <td>sdg</td>\n",
       "      <td>SE</td>\n",
       "      <td></td>\n",
       "      <td>...</td>\n",
       "      <td>0.672616</td>\n",
       "      <td>0.647360</td>\n",
       "      <td>0.676092</td>\n",
       "      <td>0.819390</td>\n",
       "      <td>0.872010</td>\n",
       "      <td>0.779743</td>\n",
       "      <td>0.843321</td>\n",
       "      <td>H, D, I, L,</td>\n",
       "      <td>H1, D1, I1, L1, L4,</td>\n",
       "      <td>buying goods, moving, personal data, VAT, impo...</td>\n",
       "    </tr>\n",
       "    <tr>\n",
       "      <th>1833</th>\n",
       "      <td>Recognition information for EU citizens - Swed...</td>\n",
       "      <td>https://www.uhr.se/en/start/recognition-of-for...</td>\n",
       "      <td>en</td>\n",
       "      <td>B3</td>\n",
       "      <td>Information</td>\n",
       "      <td>Sweden</td>\n",
       "      <td>Recognition information for EU citizens - Swed...</td>\n",
       "      <td>sdg</td>\n",
       "      <td>SE</td>\n",
       "      <td></td>\n",
       "      <td>...</td>\n",
       "      <td>0.648890</td>\n",
       "      <td>0.610716</td>\n",
       "      <td>0.902828</td>\n",
       "      <td>0.830009</td>\n",
       "      <td>0.778063</td>\n",
       "      <td>0.833771</td>\n",
       "      <td>0.880796</td>\n",
       "      <td>N, E, M, I, D,</td>\n",
       "      <td>N3, E1, M8, E3, E4, I1, D1,</td>\n",
       "      <td>vocational education, education system, certi...</td>\n",
       "    </tr>\n",
       "    <tr>\n",
       "      <th>1834</th>\n",
       "      <td>Candidates standing for election - Valmyndigheten</td>\n",
       "      <td>https://www.val.se/servicelankar/other-languag...</td>\n",
       "      <td>en</td>\n",
       "      <td>D3</td>\n",
       "      <td>Information</td>\n",
       "      <td>Sweden</td>\n",
       "      <td>Candidates standing for election - Valmyndighe...</td>\n",
       "      <td>sdg</td>\n",
       "      <td>SE</td>\n",
       "      <td></td>\n",
       "      <td>...</td>\n",
       "      <td>0.850436</td>\n",
       "      <td>0.666533</td>\n",
       "      <td>0.709328</td>\n",
       "      <td>0.718841</td>\n",
       "      <td>0.900747</td>\n",
       "      <td>0.759830</td>\n",
       "      <td>0.740445</td>\n",
       "      <td>D, G,</td>\n",
       "      <td>D3, G1,</td>\n",
       "      <td>elections, birth,</td>\n",
       "    </tr>\n",
       "    <tr>\n",
       "      <th>1835</th>\n",
       "      <td>The right to vote and voting cards - Valmyndig...</td>\n",
       "      <td>https://www.val.se/servicelankar/other-languag...</td>\n",
       "      <td>en</td>\n",
       "      <td>D3</td>\n",
       "      <td>Information</td>\n",
       "      <td>Sweden</td>\n",
       "      <td>The right to vote and voting cards - Valmyndig...</td>\n",
       "      <td>sdg</td>\n",
       "      <td>SE</td>\n",
       "      <td></td>\n",
       "      <td>...</td>\n",
       "      <td>0.569242</td>\n",
       "      <td>0.590785</td>\n",
       "      <td>0.709328</td>\n",
       "      <td>0.704464</td>\n",
       "      <td>0.900747</td>\n",
       "      <td>0.759830</td>\n",
       "      <td>0.740445</td>\n",
       "      <td>D,</td>\n",
       "      <td>D3,</td>\n",
       "      <td>elections,</td>\n",
       "    </tr>\n",
       "    <tr>\n",
       "      <th>1836</th>\n",
       "      <td>- Yrkeshögskolan</td>\n",
       "      <td>https://www.yrkeshogskolan.se/in-english/how-d...</td>\n",
       "      <td>en</td>\n",
       "      <td>N1</td>\n",
       "      <td>Information</td>\n",
       "      <td>Sweden</td>\n",
       "      <td>- Yrkeshögskolan Antingen stödjer din webbläsa...</td>\n",
       "      <td>sdg</td>\n",
       "      <td>SE\"</td>\n",
       "      <td></td>\n",
       "      <td>...</td>\n",
       "      <td>0.629270</td>\n",
       "      <td>0.587398</td>\n",
       "      <td>0.858448</td>\n",
       "      <td>0.776977</td>\n",
       "      <td>0.610672</td>\n",
       "      <td>0.759830</td>\n",
       "      <td>0.748256</td>\n",
       "      <td></td>\n",
       "      <td></td>\n",
       "      <td></td>\n",
       "    </tr>\n",
       "  </tbody>\n",
       "</table>\n",
       "<p>1837 rows × 41 columns</p>\n",
       "</div>"
      ],
      "text/plain": [
       "                                                  title  \\\n",
       "0                         Your Guide to Greece - Gov.gr   \n",
       "1                         Your Guide to Greece - Gov.gr   \n",
       "2                         Your Guide to Greece - Gov.gr   \n",
       "3                         Your Guide to Greece - Gov.gr   \n",
       "4                         Your Guide to Greece - Gov.gr   \n",
       "...                                                 ...   \n",
       "1832                        Import charges - Tullverket   \n",
       "1833  Recognition information for EU citizens - Swed...   \n",
       "1834  Candidates standing for election - Valmyndigheten   \n",
       "1835  The right to vote and voting cards - Valmyndig...   \n",
       "1836                                   - Yrkeshögskolan   \n",
       "\n",
       "                                                    url language  \\\n",
       "0     https://www.gov.gr/en/sdg/citizens-and-family-...       en   \n",
       "1     https://www.gov.gr/en/sdg/citizens-and-family-...       en   \n",
       "2     https://www.gov.gr/en/sdg/citizens-and-family-...       en   \n",
       "3     https://www.gov.gr/en/sdg/citizens-and-family-...       en   \n",
       "4     https://www.gov.gr/en/sdg/citizens-and-family-...       en   \n",
       "...                                                 ...      ...   \n",
       "1832  https://www.tullverket.se/eng/business/importi...       en   \n",
       "1833  https://www.uhr.se/en/start/recognition-of-for...       en   \n",
       "1834  https://www.val.se/servicelankar/other-languag...       en   \n",
       "1835  https://www.val.se/servicelankar/other-languag...       en   \n",
       "1836  https://www.yrkeshogskolan.se/in-english/how-d...       en   \n",
       "\n",
       "     classification_information metadata_type_string country  \\\n",
       "0                            G3          Information  Greece   \n",
       "1                            G4          Information  Greece   \n",
       "2                            G4          Information  Greece   \n",
       "3                            G4          Information  Greece   \n",
       "4                            G4          Information  Greece   \n",
       "...                         ...                  ...     ...   \n",
       "1832                         L4          Information  Sweden   \n",
       "1833                         B3          Information  Sweden   \n",
       "1834                         D3          Information  Sweden   \n",
       "1835                         D3          Information  Sweden   \n",
       "1836                         N1          Information  Sweden   \n",
       "\n",
       "                                                   html sdg_tag ISO3166  \\\n",
       "0     Your Guide to Greece - Gov.gr ΕL EN Created wi...     sdg      en   \n",
       "1     Your Guide to Greece - Gov.gr Skip to main con...     sdg      en   \n",
       "2     Your Guide to Greece - Gov.gr Skip to main con...     sdg      en   \n",
       "3     Your Guide to Greece - Gov.gr Skip to main con...     sdg      en   \n",
       "4     Your Guide to Greece - Gov.gr Skip to main con...     sdg      en   \n",
       "...                                                 ...     ...     ...   \n",
       "1832  Import charges - Tullverket About the website ...     sdg      SE   \n",
       "1833  Recognition information for EU citizens - Swed...     sdg      SE   \n",
       "1834  Candidates standing for election - Valmyndighe...     sdg      SE   \n",
       "1835  The right to vote and voting cards - Valmyndig...     sdg      SE   \n",
       "1836  - Yrkeshögskolan Antingen stödjer din webbläsa...     sdg     SE\"   \n",
       "\n",
       "     Location  ...         R         S         T         U         V  \\\n",
       "0              ...  1.000000  0.672528  0.800680  0.936135  0.813468   \n",
       "1              ...  0.595408  0.637999  0.692486  0.825659  0.606110   \n",
       "2              ...  0.561580  0.629226  0.749408  0.809133  0.656334   \n",
       "3              ...  0.891274  0.814821  0.856768  0.818225  0.900747   \n",
       "4              ...  0.638353  0.624820  0.681847  0.812690  0.646286   \n",
       "...       ...  ...       ...       ...       ...       ...       ...   \n",
       "1832           ...  0.672616  0.647360  0.676092  0.819390  0.872010   \n",
       "1833           ...  0.648890  0.610716  0.902828  0.830009  0.778063   \n",
       "1834           ...  0.850436  0.666533  0.709328  0.718841  0.900747   \n",
       "1835           ...  0.569242  0.590785  0.709328  0.704464  0.900747   \n",
       "1836           ...  0.629270  0.587398  0.858448  0.776977  0.610672   \n",
       "\n",
       "             W         X             tags                       subtags  \\\n",
       "0     0.736008  0.930276  G, B, F, R, K,   G3, B8, F1, R1, B9, K2, G1,    \n",
       "1     0.780286  0.886670        B, G, D,               B4, G4, G3, D6,    \n",
       "2     0.779231  0.886670           B, G,                   B4, G4, G3,    \n",
       "3     0.780286  0.886670     G, D, L, B,           G4, G3, D6, L5, B4,    \n",
       "4     0.779231  0.886670           G, B,               G4, G3, B4, G2,    \n",
       "...        ...       ...              ...                           ...   \n",
       "1832  0.779743  0.843321     H, D, I, L,           H1, D1, I1, L1, L4,    \n",
       "1833  0.833771  0.880796  N, E, M, I, D,   N3, E1, M8, E3, E4, I1, D1,    \n",
       "1834  0.759830  0.740445           D, G,                       D3, G1,    \n",
       "1835  0.759830  0.740445              D,                           D3,    \n",
       "1836  0.759830  0.748256                                                  \n",
       "\n",
       "                                               tag_word  \n",
       "0     gender recognition, health, medical treatment,...  \n",
       "1     taxation, Succession rights, gender recognitio...  \n",
       "2     taxation, Succession rights, gender recognition,   \n",
       "3     Succession rights, gender recognition, death, ...  \n",
       "4     Succession rights, gender recognition, taxatio...  \n",
       "...                                                 ...  \n",
       "1832  buying goods, moving, personal data, VAT, impo...  \n",
       "1833   vocational education, education system, certi...  \n",
       "1834                                 elections, birth,   \n",
       "1835                                        elections,   \n",
       "1836                                                     \n",
       "\n",
       "[1837 rows x 41 columns]"
      ]
     },
     "execution_count": 29,
     "metadata": {},
     "output_type": "execute_result"
    }
   ],
   "source": [
    "output"
   ]
  },
  {
   "cell_type": "code",
   "execution_count": null,
   "id": "ddccaf74",
   "metadata": {},
   "outputs": [],
   "source": []
  },
  {
   "cell_type": "code",
   "execution_count": 27,
   "id": "de5a8090",
   "metadata": {},
   "outputs": [],
   "source": [
    "output.to_csv('webpages_policies_tagged.csv', index= False)\n"
   ]
  },
  {
   "cell_type": "code",
   "execution_count": 30,
   "id": "86a3516b",
   "metadata": {},
   "outputs": [],
   "source": [
    "output.to_excel(\"webpages_policies_tagged.xlsx\") "
   ]
  },
  {
   "cell_type": "code",
   "execution_count": null,
   "id": "d4bb68b9",
   "metadata": {},
   "outputs": [],
   "source": []
  },
  {
   "cell_type": "markdown",
   "id": "92446035",
   "metadata": {},
   "source": [
    "## 6) Analysing results <a class=\"anchor\" id=\"sixth-bullet\"></a>"
   ]
  },
  {
   "cell_type": "markdown",
   "id": "37ca039a",
   "metadata": {},
   "source": [
    "The results are analysed in perfect match (1-1 correct), not-perfect match (at least one label correct), wrong match (no label correct).\n",
    "\n",
    "Next, we report the average of labels predicted from the entire bucket of labels, "
   ]
  },
  {
   "cell_type": "code",
   "execution_count": 31,
   "id": "29174029",
   "metadata": {},
   "outputs": [],
   "source": [
    "predictions = output [\"subtags\"]"
   ]
  },
  {
   "cell_type": "code",
   "execution_count": 32,
   "id": "b406c46b",
   "metadata": {},
   "outputs": [],
   "source": [
    "true_values = output[\"classification_information\"]"
   ]
  },
  {
   "cell_type": "code",
   "execution_count": 45,
   "id": "1d56e579",
   "metadata": {},
   "outputs": [],
   "source": [
    "true_values_list=[]\n",
    "for i in range(0,len(true_values)):\n",
    "    true_values_list.append(true_values[i].split(\";\"))"
   ]
  },
  {
   "cell_type": "code",
   "execution_count": 63,
   "id": "3a231bfd",
   "metadata": {},
   "outputs": [],
   "source": [
    "predictions_list=[]\n",
    "for i in range(0,len(predictions)):\n",
    "    text = predictions[i].split(\",\")\n",
    "    text = ' '.join(text).split() #remove blanks\n",
    "    predictions_list.append(text)"
   ]
  },
  {
   "cell_type": "code",
   "execution_count": 66,
   "id": "659d95ad",
   "metadata": {},
   "outputs": [
    {
     "data": {
      "text/plain": [
       "1837"
      ]
     },
     "execution_count": 66,
     "metadata": {},
     "output_type": "execute_result"
    }
   ],
   "source": [
    "len(predictions_list)"
   ]
  },
  {
   "cell_type": "code",
   "execution_count": 67,
   "id": "e23fd131",
   "metadata": {},
   "outputs": [
    {
     "data": {
      "text/plain": [
       "1837"
      ]
     },
     "execution_count": 67,
     "metadata": {},
     "output_type": "execute_result"
    }
   ],
   "source": [
    "len(true_values_list)"
   ]
  },
  {
   "cell_type": "markdown",
   "id": "19c7f643",
   "metadata": {},
   "source": [
    "1) Count the number of perfect matches"
   ]
  },
  {
   "cell_type": "code",
   "execution_count": 77,
   "id": "b6be33cd",
   "metadata": {},
   "outputs": [],
   "source": [
    "perfect_match = []\n",
    "for i in range(0,len(true_values_list)):\n",
    "    \n",
    "    if set(true_values_list[i]) == set(predictions_list[i]):    \n",
    "        perfect_match.append(True)\n",
    "    else:\n",
    "        perfect_match.append(False)   "
   ]
  },
  {
   "cell_type": "code",
   "execution_count": 78,
   "id": "9f742485",
   "metadata": {},
   "outputs": [
    {
     "data": {
      "text/plain": [
       "59"
      ]
     },
     "execution_count": 78,
     "metadata": {},
     "output_type": "execute_result"
    }
   ],
   "source": [
    "sum(perfect_match)"
   ]
  },
  {
   "cell_type": "code",
   "execution_count": 80,
   "id": "dd327404",
   "metadata": {},
   "outputs": [
    {
     "data": {
      "text/plain": [
       "3.211758301578661"
      ]
     },
     "execution_count": 80,
     "metadata": {},
     "output_type": "execute_result"
    }
   ],
   "source": [
    "(sum(perfect_match)/len(true_values_list))*100 #percentage perfect match"
   ]
  },
  {
   "cell_type": "markdown",
   "id": "75610ab3",
   "metadata": {},
   "source": [
    "There are 59 perfect matches from the 1837 or 3.21%"
   ]
  },
  {
   "cell_type": "markdown",
   "id": "2b0f13d6",
   "metadata": {},
   "source": [
    "2) Count the number of not perfect matches"
   ]
  },
  {
   "cell_type": "code",
   "execution_count": 92,
   "id": "0e05fd83",
   "metadata": {},
   "outputs": [],
   "source": [
    "not_perfect_match = []\n",
    "for i in range(0,len(true_values_list)):\n",
    "    \n",
    "    if any(item in true_values_list[i] for item in predictions_list[i]) and not(set(true_values_list[i]) == set(predictions_list[i])):    \n",
    "        not_perfect_match.append(True)\n",
    "    else:\n",
    "        not_perfect_match.append(False)  "
   ]
  },
  {
   "cell_type": "code",
   "execution_count": 98,
   "id": "91ebe121",
   "metadata": {},
   "outputs": [
    {
     "data": {
      "text/plain": [
       "678"
      ]
     },
     "execution_count": 98,
     "metadata": {},
     "output_type": "execute_result"
    }
   ],
   "source": [
    "sum(not_perfect_match)"
   ]
  },
  {
   "cell_type": "code",
   "execution_count": 99,
   "id": "1ef29b3e",
   "metadata": {},
   "outputs": [
    {
     "data": {
      "text/plain": [
       "36.90800217746325"
      ]
     },
     "execution_count": 99,
     "metadata": {},
     "output_type": "execute_result"
    }
   ],
   "source": [
    "(sum(not_perfect_match)/len(true_values_list))*100 #percentage perfect match"
   ]
  },
  {
   "cell_type": "markdown",
   "id": "10c3ee70",
   "metadata": {},
   "source": [
    "There are 678 not perfect matches from the 1837 or 36.9%"
   ]
  },
  {
   "cell_type": "markdown",
   "id": "435676f2",
   "metadata": {},
   "source": [
    "3) Count the number of wrong matches"
   ]
  },
  {
   "cell_type": "code",
   "execution_count": 94,
   "id": "f0f572d4",
   "metadata": {},
   "outputs": [],
   "source": [
    "wrong_match = []\n",
    "for i in range(0,len(true_values_list)):\n",
    "    \n",
    "    if not(any(item in true_values_list[i] for item in predictions_list[i])):    \n",
    "        wrong_match.append(True)\n",
    "    else:\n",
    "        wrong_match.append(False)  "
   ]
  },
  {
   "cell_type": "code",
   "execution_count": 100,
   "id": "8d846bc6",
   "metadata": {},
   "outputs": [
    {
     "data": {
      "text/plain": [
       "1100"
      ]
     },
     "execution_count": 100,
     "metadata": {},
     "output_type": "execute_result"
    }
   ],
   "source": [
    "sum(wrong_match)"
   ]
  },
  {
   "cell_type": "code",
   "execution_count": 103,
   "id": "0984ce4f",
   "metadata": {},
   "outputs": [
    {
     "data": {
      "text/plain": [
       "59.88023952095808"
      ]
     },
     "execution_count": 103,
     "metadata": {},
     "output_type": "execute_result"
    }
   ],
   "source": [
    "(sum(wrong_match)/len(true_values_list))*100 #percentage perfect match"
   ]
  },
  {
   "cell_type": "markdown",
   "id": "34c898ba",
   "metadata": {},
   "source": [
    "There are 1100 wrong matches from the 1837 or 59.8%"
   ]
  },
  {
   "cell_type": "markdown",
   "id": "28dccb8e",
   "metadata": {},
   "source": [
    "4) average number of tags"
   ]
  },
  {
   "cell_type": "code",
   "execution_count": 105,
   "id": "4fa7027d",
   "metadata": {},
   "outputs": [
    {
     "data": {
      "text/plain": [
       "3"
      ]
     },
     "execution_count": 105,
     "metadata": {},
     "output_type": "execute_result"
    }
   ],
   "source": [
    "len(predictions_list[2])"
   ]
  },
  {
   "cell_type": "code",
   "execution_count": 107,
   "id": "43d6f1cc",
   "metadata": {},
   "outputs": [
    {
     "data": {
      "text/plain": [
       "1837"
      ]
     },
     "execution_count": 107,
     "metadata": {},
     "output_type": "execute_result"
    }
   ],
   "source": [
    "len(predictions_list)"
   ]
  },
  {
   "cell_type": "code",
   "execution_count": 110,
   "id": "c4f4847f",
   "metadata": {},
   "outputs": [
    {
     "name": "stdout",
     "output_type": "stream",
     "text": [
      "3.2847033206314644\n"
     ]
    }
   ],
   "source": [
    "sum_tags =0\n",
    "for i in range(0, len(predictions_list)):\n",
    "    sum_tags = sum_tags + len(predictions_list[i])\n",
    "print(sum_tags/len(predictions_list))"
   ]
  },
  {
   "cell_type": "markdown",
   "id": "a6f4ddc7",
   "metadata": {},
   "source": [
    "On  average 3.28 tags were guessed for a webpage"
   ]
  },
  {
   "cell_type": "code",
   "execution_count": null,
   "id": "b13c90ac",
   "metadata": {},
   "outputs": [],
   "source": []
  },
  {
   "cell_type": "code",
   "execution_count": null,
   "id": "46de2823",
   "metadata": {},
   "outputs": [],
   "source": []
  },
  {
   "cell_type": "code",
   "execution_count": 111,
   "id": "4b3d03a3",
   "metadata": {},
   "outputs": [],
   "source": [
    "stopW = set(stopwords.words('english'))\n"
   ]
  },
  {
   "cell_type": "code",
   "execution_count": 113,
   "id": "9a8f7178",
   "metadata": {},
   "outputs": [
    {
     "data": {
      "text/plain": [
       "{'a',\n",
       " 'about',\n",
       " 'above',\n",
       " 'after',\n",
       " 'again',\n",
       " 'against',\n",
       " 'ain',\n",
       " 'all',\n",
       " 'am',\n",
       " 'an',\n",
       " 'and',\n",
       " 'any',\n",
       " 'are',\n",
       " 'aren',\n",
       " \"aren't\",\n",
       " 'as',\n",
       " 'at',\n",
       " 'be',\n",
       " 'because',\n",
       " 'been',\n",
       " 'before',\n",
       " 'being',\n",
       " 'below',\n",
       " 'between',\n",
       " 'both',\n",
       " 'but',\n",
       " 'by',\n",
       " 'can',\n",
       " 'couldn',\n",
       " \"couldn't\",\n",
       " 'd',\n",
       " 'did',\n",
       " 'didn',\n",
       " \"didn't\",\n",
       " 'do',\n",
       " 'does',\n",
       " 'doesn',\n",
       " \"doesn't\",\n",
       " 'doing',\n",
       " 'don',\n",
       " \"don't\",\n",
       " 'down',\n",
       " 'during',\n",
       " 'each',\n",
       " 'few',\n",
       " 'for',\n",
       " 'from',\n",
       " 'further',\n",
       " 'had',\n",
       " 'hadn',\n",
       " \"hadn't\",\n",
       " 'has',\n",
       " 'hasn',\n",
       " \"hasn't\",\n",
       " 'have',\n",
       " 'haven',\n",
       " \"haven't\",\n",
       " 'having',\n",
       " 'he',\n",
       " 'her',\n",
       " 'here',\n",
       " 'hers',\n",
       " 'herself',\n",
       " 'him',\n",
       " 'himself',\n",
       " 'his',\n",
       " 'how',\n",
       " 'i',\n",
       " 'if',\n",
       " 'in',\n",
       " 'into',\n",
       " 'is',\n",
       " 'isn',\n",
       " \"isn't\",\n",
       " 'it',\n",
       " \"it's\",\n",
       " 'its',\n",
       " 'itself',\n",
       " 'just',\n",
       " 'll',\n",
       " 'm',\n",
       " 'ma',\n",
       " 'me',\n",
       " 'mightn',\n",
       " \"mightn't\",\n",
       " 'more',\n",
       " 'most',\n",
       " 'mustn',\n",
       " \"mustn't\",\n",
       " 'my',\n",
       " 'myself',\n",
       " 'needn',\n",
       " \"needn't\",\n",
       " 'no',\n",
       " 'nor',\n",
       " 'not',\n",
       " 'now',\n",
       " 'o',\n",
       " 'of',\n",
       " 'off',\n",
       " 'on',\n",
       " 'once',\n",
       " 'only',\n",
       " 'or',\n",
       " 'other',\n",
       " 'our',\n",
       " 'ours',\n",
       " 'ourselves',\n",
       " 'out',\n",
       " 'over',\n",
       " 'own',\n",
       " 're',\n",
       " 's',\n",
       " 'same',\n",
       " 'shan',\n",
       " \"shan't\",\n",
       " 'she',\n",
       " \"she's\",\n",
       " 'should',\n",
       " \"should've\",\n",
       " 'shouldn',\n",
       " \"shouldn't\",\n",
       " 'so',\n",
       " 'some',\n",
       " 'such',\n",
       " 't',\n",
       " 'than',\n",
       " 'that',\n",
       " \"that'll\",\n",
       " 'the',\n",
       " 'their',\n",
       " 'theirs',\n",
       " 'them',\n",
       " 'themselves',\n",
       " 'then',\n",
       " 'there',\n",
       " 'these',\n",
       " 'they',\n",
       " 'this',\n",
       " 'those',\n",
       " 'through',\n",
       " 'to',\n",
       " 'too',\n",
       " 'under',\n",
       " 'until',\n",
       " 'up',\n",
       " 've',\n",
       " 'very',\n",
       " 'was',\n",
       " 'wasn',\n",
       " \"wasn't\",\n",
       " 'we',\n",
       " 'were',\n",
       " 'weren',\n",
       " \"weren't\",\n",
       " 'what',\n",
       " 'when',\n",
       " 'where',\n",
       " 'which',\n",
       " 'while',\n",
       " 'who',\n",
       " 'whom',\n",
       " 'why',\n",
       " 'will',\n",
       " 'with',\n",
       " 'won',\n",
       " \"won't\",\n",
       " 'wouldn',\n",
       " \"wouldn't\",\n",
       " 'y',\n",
       " 'you',\n",
       " \"you'd\",\n",
       " \"you'll\",\n",
       " \"you're\",\n",
       " \"you've\",\n",
       " 'your',\n",
       " 'yours',\n",
       " 'yourself',\n",
       " 'yourselves'}"
      ]
     },
     "execution_count": 113,
     "metadata": {},
     "output_type": "execute_result"
    }
   ],
   "source": [
    "stopW"
   ]
  }
 ],
 "metadata": {
  "kernelspec": {
   "display_name": "Python 3 (ipykernel)",
   "language": "python",
   "name": "python3"
  },
  "language_info": {
   "codemirror_mode": {
    "name": "ipython",
    "version": 3
   },
   "file_extension": ".py",
   "mimetype": "text/x-python",
   "name": "python",
   "nbconvert_exporter": "python",
   "pygments_lexer": "ipython3",
   "version": "3.9.7"
  }
 },
 "nbformat": 4,
 "nbformat_minor": 5
}
